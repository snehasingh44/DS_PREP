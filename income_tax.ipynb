{
 "cells": [
  {
   "cell_type": "code",
   "execution_count": 8,
   "metadata": {},
   "outputs": [
    {
     "name": "stdout",
     "output_type": "stream",
     "text": [
      "50000.1\n"
     ]
    }
   ],
   "source": [
    "income = int(input(\"Enter Your Income\\n \"))\n",
    "if income > 1000000:\n",
    "    r=20\n",
    "elif income > 500000:\n",
    "    r = 10\n",
    "else:\n",
    "    r = 0\n",
    "tax= (income*r)/100\n",
    "print(tax)\n"
   ]
  },
  {
   "cell_type": "code",
   "execution_count": 11,
   "metadata": {},
   "outputs": [
    {
     "name": "stdout",
     "output_type": "stream",
     "text": [
      "Your Income = 600000\n",
      "As per slab, Rate of Interest = 10%\n",
      "So,\n",
      "Income tax = 60000.0\n"
     ]
    }
   ],
   "source": [
    "income = int(input(\"Enter Your Annual Income\\n\"))\n",
    "if income > 1000000:\n",
    "        r = 20\n",
    "elif income > 500000:\n",
    "        r = 10\n",
    "else:\n",
    "        r = 0\n",
    "def income_tax_cal():\n",
    "    tax= (income * r)/100\n",
    "    print(f\"Your Income = {income}\\nAs per slab, Rate of Interest = {r}%\\nSo,\\nIncome tax = {tax}\")\n",
    "    \n",
    "income_tax_cal()"
   ]
  }
 ],
 "metadata": {
  "kernelspec": {
   "display_name": "Python 3",
   "language": "python",
   "name": "python3"
  },
  "language_info": {
   "codemirror_mode": {
    "name": "ipython",
    "version": 3
   },
   "file_extension": ".py",
   "mimetype": "text/x-python",
   "name": "python",
   "nbconvert_exporter": "python",
   "pygments_lexer": "ipython3",
   "version": "3.8.8 (tags/v3.8.8:024d805, Feb 19 2021, 13:18:16) [MSC v.1928 64 bit (AMD64)]"
  },
  "orig_nbformat": 4,
  "vscode": {
   "interpreter": {
    "hash": "ae4130c9d59802fd7a8b3558ed20b92f48bf56426b879e496b42b7fc1f5ab5db"
   }
  }
 },
 "nbformat": 4,
 "nbformat_minor": 2
}
