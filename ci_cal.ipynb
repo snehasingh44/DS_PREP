{
 "cells": [
  {
   "cell_type": "code",
   "execution_count": 2,
   "metadata": {},
   "outputs": [
    {
     "name": "stdout",
     "output_type": "stream",
     "text": [
      "Compound Interest = 2520.000000000002\n"
     ]
    }
   ],
   "source": [
    "#Compound Interest Calculator using Function\n",
    "p = float(input(\"Enter Principal: \"))\n",
    "r = float(input(\"Enter rate of Interest: \"))\n",
    "t = int(input(\"Enter Time: \"))\n",
    "def ci_cal():\n",
    "    a = p * (1+r/100)**t\n",
    "    ci = a - p\n",
    "    print(f\"Compound Interest = {ci}\")\n",
    "ci_cal()"
   ]
  },
  {
   "cell_type": "code",
   "execution_count": 3,
   "metadata": {},
   "outputs": [
    {
     "name": "stdout",
     "output_type": "stream",
     "text": [
      "Coumpound Interest = 2520.000000000002\n"
     ]
    }
   ],
   "source": [
    "#Compoundf Interest Calculator by taking multiple variable\n",
    "p, r, t = float(input(\"Enter Principal: \")), float(input(\"Enter rate of Interest: \")), int(input(\"Enter Time: \"))\n",
    "a = p * (1+r/100)**t\n",
    "ci = a - p\n",
    "print(f\"Coumpound Interest = {ci}\")"
   ]
  }
 ],
 "metadata": {
  "kernelspec": {
   "display_name": "Python 3",
   "language": "python",
   "name": "python3"
  },
  "language_info": {
   "codemirror_mode": {
    "name": "ipython",
    "version": 3
   },
   "file_extension": ".py",
   "mimetype": "text/x-python",
   "name": "python",
   "nbconvert_exporter": "python",
   "pygments_lexer": "ipython3",
   "version": "3.8.8"
  },
  "orig_nbformat": 4,
  "vscode": {
   "interpreter": {
    "hash": "ae4130c9d59802fd7a8b3558ed20b92f48bf56426b879e496b42b7fc1f5ab5db"
   }
  }
 },
 "nbformat": 4,
 "nbformat_minor": 2
}
