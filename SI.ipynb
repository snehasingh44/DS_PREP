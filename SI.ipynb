{
 "cells": [
  {
   "cell_type": "code",
   "execution_count": 8,
   "metadata": {},
   "outputs": [
    {
     "name": "stdout",
     "output_type": "stream",
     "text": [
      "Simple Interest = 4000.0\n"
     ]
    }
   ],
   "source": [
    "#Simple Interest Calculator using Function\n",
    "p = float(input(\"Enter Principal: \"))\n",
    "r = float(input(\"Enter rate of Interest: \"))\n",
    "t = int(input(\"Enter Time: \"))\n",
    "def si_cal():\n",
    "    si = p * r * t/100\n",
    "    print(f\"Simple Interest = {si}\")\n",
    "si_cal()"
   ]
  },
  {
   "cell_type": "code",
   "execution_count": 6,
   "metadata": {},
   "outputs": [
    {
     "name": "stdout",
     "output_type": "stream",
     "text": [
      "Simple Interest:2000.0 \n"
     ]
    }
   ],
   "source": [
    "#Simple Interest Calculator by taking multiple variables using function\n",
    "p, r, t = float(input(\"Enter Principal: \")), float(input(\"Enter Rate of Interest: \")), int(input(\"Enter Time(in years): \"))\n",
    "def my_si_cal():\n",
    "    si= p * r * t/100\n",
    "    print(f\"Simple Interest:{si} \")\n",
    "my_si_cal()"
   ]
  },
  {
   "cell_type": "code",
   "execution_count": 7,
   "metadata": {},
   "outputs": [
    {
     "name": "stdout",
     "output_type": "stream",
     "text": [
      "4000.0\n"
     ]
    }
   ],
   "source": [
    "#Simple Interest Calculator by taking multiple variables\n",
    "p, r, t = float(input(\"Enter Principal: \")), float(input(\"Enter Rate of Interest: \")), int(input(\"Enter Time(in years): \"))\n",
    "si = p * r * t/100\n",
    "print(si)"
   ]
  }
 ],
 "metadata": {
  "kernelspec": {
   "display_name": "Python 3",
   "language": "python",
   "name": "python3"
  },
  "language_info": {
   "codemirror_mode": {
    "name": "ipython",
    "version": 3
   },
   "file_extension": ".py",
   "mimetype": "text/x-python",
   "name": "python",
   "nbconvert_exporter": "python",
   "pygments_lexer": "ipython3",
   "version": "3.8.8"
  },
  "orig_nbformat": 4,
  "vscode": {
   "interpreter": {
    "hash": "ae4130c9d59802fd7a8b3558ed20b92f48bf56426b879e496b42b7fc1f5ab5db"
   }
  }
 },
 "nbformat": 4,
 "nbformat_minor": 2
}
